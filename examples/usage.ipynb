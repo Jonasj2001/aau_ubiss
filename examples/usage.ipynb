{
 "cells": [
  {
   "cell_type": "markdown",
   "id": "1984f960",
   "metadata": {},
   "source": [
    "# Short introduction to the AAU IoT API\n",
    "\n",
    "The API consists of two classes you will have to interact with:  \n",
    "`aau_iot`   which interacts with sensors and modem for communication over MQTT.  \n",
    "`MqttData`  is the dataclass, which are serialized and sent over the wire."
   ]
  },
  {
   "cell_type": "code",
   "execution_count": 3,
   "id": "7b4d5394",
   "metadata": {},
   "outputs": [
    {
     "name": "stdout",
     "output_type": "stream",
     "text": [
      "16:08:58\n"
     ]
    }
   ],
   "source": [
    "import time\n",
    "from aauiot import aau_iot, MqttData\n",
    "\n",
    "server_ip = \"130.225.37.241\"\n",
    "group_name = \"AAU_IoT\"\n",
    "\n",
    "iot = aau_iot(server_ip, group_name)\n",
    "\n",
    "time_now = iot.get_time()\n",
    "print(time_now)"
   ]
  },
  {
   "cell_type": "markdown",
   "id": "43018f29",
   "metadata": {},
   "source": [
    "## Interaction with sensors\n",
    "\n",
    "Once the aau_iot object has been instantiated it is possible to interact with any connected sensors\n",
    "\n",
    "The platform consists of three sensors\n",
    "- VEML7700 used for measuring light\n",
    "- BME680 used for temperature, humidity and pressure measurement (The internal gas sensor is disabled)\n",
    "- SGP30 is used for air quality\n",
    "\n",
    "Each sensor returns its value and timestamp for measurement"
   ]
  },
  {
   "cell_type": "code",
   "execution_count": 60,
   "id": "91da49b9",
   "metadata": {},
   "outputs": [
    {
     "name": "stdout",
     "output_type": "stream",
     "text": [
      "**BME680**\n",
      "15:58:05  Temperature: 25.70 [degC]\n",
      "15:58:05  Humidity:    52.97 [%]\n",
      "15:58:05  Pressure:    1011.13 [hPa]\n",
      "\n",
      "**SGP30**\n",
      "15:58:05  TVOC: 3 [ppb], eCO2: 400 [ppm]\n",
      "\n",
      "**VEML7700**\n",
      "15:58:05  light: 66.36 [Lux]\n",
      "15:58:05  raw:   65.86 [Lux]\n"
     ]
    }
   ],
   "source": [
    "print(\"**BME680**\")\n",
    "temp, ts = iot.temperature()\n",
    "print(f\"{ts}  Temperature: {temp:.2f} [degC]\")\n",
    "humidity, ts = iot.humidity()\n",
    "print(f\"{ts}  Humidity:    {humidity:.2f} [%]\")\n",
    "pressure, ts = iot.pressure()\n",
    "print(f\"{ts}  Pressure:    {pressure:.2f} [hPa]\\n\")\n",
    "\n",
    "print(\"**SGP30**\")\n",
    "gas, ts = iot.gas()\n",
    "print(f\"{ts}  TVOC: {gas[0]} [ppb], eCO2: {gas[1]} [ppm]\\n\")\n",
    "\n",
    "print(\"**VEML7700**\")\n",
    "light, ts = iot.light()\n",
    "print(f\"{ts}  light: {light:.2f} [Lux]\")\n",
    "light_raw, ts = iot.light.get_light_raw()\n",
    "print(f\"{ts}  raw:   {light_raw:.2f} [Lux]\")\n",
    "\n"
   ]
  },
  {
   "cell_type": "markdown",
   "id": "bc19d516",
   "metadata": {},
   "source": [
    "### Sensor Settings\n",
    "\n",
    "Some sensors allows the user to set gain and oversampling parameters\n",
    "\n",
    "The BME680 supports setting the oversampling rate  \n",
    "VEML7700 supports setting gain and integration time  \n",
    "SGP30 has no additional options."
   ]
  },
  {
   "cell_type": "code",
   "execution_count": 47,
   "id": "deb67a36",
   "metadata": {},
   "outputs": [],
   "source": [
    "# Temperature:\n",
    "iot.temperature.set_oversample_rate('ovr_samp_0')\n",
    "iot.temperature.set_oversample_rate('ovr_samp_1')\n",
    "iot.temperature.set_oversample_rate('ovr_samp_2')\n",
    "iot.temperature.set_oversample_rate('ovr_samp_4')\n",
    "iot.temperature.set_oversample_rate('ovr_samp_8')\n",
    "iot.temperature.set_oversample_rate('ovr_samp_16')\n",
    "\n",
    "# Pressure\n",
    "iot.pressure.set_oversample_rate('ovr_samp_0')\n",
    "iot.pressure.set_oversample_rate('ovr_samp_1')\n",
    "iot.pressure.set_oversample_rate('ovr_samp_2')\n",
    "iot.pressure.set_oversample_rate('ovr_samp_4')\n",
    "iot.pressure.set_oversample_rate('ovr_samp_8')\n",
    "iot.pressure.set_oversample_rate('ovr_samp_16')\n",
    "\n",
    "iot.humidity.set_oversample_rate('ovr_samp_0')\n",
    "iot.humidity.set_oversample_rate('ovr_samp_1')\n",
    "iot.humidity.set_oversample_rate('ovr_samp_2')\n",
    "iot.humidity.set_oversample_rate('ovr_samp_4')\n",
    "iot.humidity.set_oversample_rate('ovr_samp_8')\n",
    "iot.humidity.set_oversample_rate('ovr_samp_16')"
   ]
  },
  {
   "cell_type": "code",
   "execution_count": 46,
   "id": "2e14e700",
   "metadata": {},
   "outputs": [
    {
     "name": "stdout",
     "output_type": "stream",
     "text": [
      "Set VEML7700 Gain:\n",
      "0.125\n",
      "0.25\n",
      "1\n",
      "2\n",
      "\n",
      "Set VEML7700 integration time:\n",
      "25\n",
      "50\n",
      "100\n",
      "200\n",
      "400\n",
      "800\n"
     ]
    }
   ],
   "source": [
    "print(\"Set VEML7700 Gain:\")\n",
    "iot.light.gain = iot.light.gain_val.ALS_GAIN_1_8\n",
    "print(iot.light.gain)\n",
    "iot.light.gain = iot.light.gain_val.ALS_GAIN_1_4\n",
    "print(iot.light.gain)\n",
    "iot.light.gain = iot.light.gain_val.ALS_GAIN_1\n",
    "print(iot.light.gain)\n",
    "iot.light.gain = iot.light.gain_val.ALS_GAIN_2\n",
    "print(iot.light.gain)\n",
    "\n",
    "print(\"\\nSet VEML7700 integration time:\")\n",
    "iot.light.integration_time = iot.light.int_time_val.ALS_25MS\n",
    "print(iot.light.integration_time)\n",
    "iot.light.integration_time = iot.light.int_time_val.ALS_50MS\n",
    "print(iot.light.integration_time)\n",
    "iot.light.integration_time = iot.light.int_time_val.ALS_100MS\n",
    "print(iot.light.integration_time)\n",
    "iot.light.integration_time = iot.light.int_time_val.ALS_200MS\n",
    "print(iot.light.integration_time)\n",
    "iot.light.integration_time = iot.light.int_time_val.ALS_400MS\n",
    "print(iot.light.integration_time)\n",
    "iot.light.integration_time = iot.light.int_time_val.ALS_800MS\n",
    "print(iot.light.integration_time)"
   ]
  },
  {
   "cell_type": "markdown",
   "id": "379e23fa",
   "metadata": {},
   "source": [
    "## Sending messages with MQTT"
   ]
  },
  {
   "cell_type": "code",
   "execution_count": null,
   "id": "5646ca97",
   "metadata": {},
   "outputs": [],
   "source": [
    "# Initialize MQTT\n",
    "iot.mqtt_connect(\"IP\") # Connect over RPI network\n",
    "iot.mqtt_connect(\"NBIoT\") # Connect over SIM7020E modem"
   ]
  },
  {
   "cell_type": "markdown",
   "id": "850e17d2",
   "metadata": {},
   "source": [
    "### Generate data object\n",
    "\n",
    "`MqttData` objects can be instantiated in multiple ways:\n",
    "\n",
    "1. Identifier, no data, no timestamp\n",
    "2. Identifier, list of data, 1 timestamp\n",
    "3. Identifier, list of data, list of timestamps\n",
    "    - Where the length of data and timestamps are the same.\n",
    "\n",
    "For 1. the object is only instantiated where data and timestamp(s) has to be added afterwards.  \n",
    "\n",
    "2 Transmits a single timestamps, which will be added to all the data points at the MQTT server.  \n",
    "\n",
    "3 combines each data point with a timestamp "
   ]
  },
  {
   "cell_type": "code",
   "execution_count": 10,
   "id": "46ad3085",
   "metadata": {},
   "outputs": [
    {
     "name": "stdout",
     "output_type": "stream",
     "text": [
      "Case 1 - Single timestamp:\n",
      "[10, 20, 30]\n",
      "['10:10:10']\n",
      "\n",
      "Case 1 - Multiple timestamps\n",
      "[10, 20]\n",
      "['10:10:10', '10:10:20']\n"
     ]
    }
   ],
   "source": [
    "print(\"Case 1 - Single timestamp:\")\n",
    "identifier = \"Case1\"\n",
    "data_obj = MqttData(identifier)\n",
    "data_obj.add_measurement(10, \"10:10:10\")\n",
    "data_obj.add_measurement(20)\n",
    "data_obj.add_measurement(30)\n",
    "print(data_obj.vals)\n",
    "print(data_obj.ts)\n",
    "\n",
    "\n",
    "print(\"\\nCase 1 - Multiple timestamps\")\n",
    "data_obj = MqttData(identifier)\n",
    "data_obj.add_measurement(10, \"10:10:10\")\n",
    "data_obj.add_measurement(20, \"10:10:20\")\n",
    "print(data_obj.vals)\n",
    "print(data_obj.ts)"
   ]
  },
  {
   "cell_type": "markdown",
   "id": "260556c5",
   "metadata": {},
   "source": [
    "`data_obj.add_measurement` return the reamining space in the object, until the 512B buffer which can be sent over the Modem is full."
   ]
  },
  {
   "cell_type": "code",
   "execution_count": 18,
   "id": "b04757b7",
   "metadata": {},
   "outputs": [
    {
     "name": "stdout",
     "output_type": "stream",
     "text": [
      "Remaning space: 405\n",
      "Size of object: 107\n"
     ]
    }
   ],
   "source": [
    "print(f\"Remaning space: {data_obj.add_measurement(30, '10:10:30')}\")\n",
    "\n",
    "print(f\"Size of object: {len(data_obj)}\")"
   ]
  },
  {
   "cell_type": "code",
   "execution_count": 11,
   "id": "9b1261c4",
   "metadata": {},
   "outputs": [
    {
     "name": "stdout",
     "output_type": "stream",
     "text": [
      "Case 2 - Single timestamp\n",
      "[1.23, 1, 24, 24.444, 10]\n",
      "['10:10:10']\n"
     ]
    }
   ],
   "source": [
    "print(\"Case 2 - Single timestamp\")\n",
    "data = [1.23, 1, 24, 24.444, 10]\n",
    "timestamps = \"10:10:10\"\n",
    "identifier = \"Test\"\n",
    "\n",
    "data_obj = MqttData(identifier, data, timestamps)\n",
    "print(data_obj.vals)\n",
    "print(data_obj.ts)"
   ]
  },
  {
   "cell_type": "code",
   "execution_count": 13,
   "id": "7f3d03a8",
   "metadata": {},
   "outputs": [
    {
     "name": "stdout",
     "output_type": "stream",
     "text": [
      "Case 3 - Multiple timestamp\n",
      "[1.23, 1, 24, 24.444, 10]\n",
      "['10:10:10', '10:10:20', '10:10:30', '10:10:40', '10:10:50']\n"
     ]
    }
   ],
   "source": [
    "print(\"Case 3 - Multiple timestamp\")\n",
    "data = [1.23, 1, 24, 24.444, 10]\n",
    "timestamps = [\"10:10:10\", \"10:10:20\", \"10:10:30\", \"10:10:40\", \"10:10:50\",]\n",
    "identifier = \"Test\"\n",
    "\n",
    "data_obj = MqttData(identifier, data, timestamps)\n",
    "print(data_obj.vals)\n",
    "print(data_obj.ts)"
   ]
  },
  {
   "cell_type": "markdown",
   "id": "2e0278c2",
   "metadata": {},
   "source": [
    "## Transmit object\n",
    "\n"
   ]
  },
  {
   "cell_type": "code",
   "execution_count": null,
   "id": "e889f54f",
   "metadata": {},
   "outputs": [],
   "source": [
    "iot.mqtt.send_topics(data_obj)"
   ]
  }
 ],
 "metadata": {
  "kernelspec": {
   "display_name": ".venv",
   "language": "python",
   "name": "python3"
  },
  "language_info": {
   "codemirror_mode": {
    "name": "ipython",
    "version": 3
   },
   "file_extension": ".py",
   "mimetype": "text/x-python",
   "name": "python",
   "nbconvert_exporter": "python",
   "pygments_lexer": "ipython3",
   "version": "3.11.2"
  }
 },
 "nbformat": 4,
 "nbformat_minor": 5
}
